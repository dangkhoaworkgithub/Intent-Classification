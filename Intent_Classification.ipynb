{
  "nbformat": 4,
  "nbformat_minor": 0,
  "metadata": {
    "colab": {
      "provenance": []
    },
    "kernelspec": {
      "name": "python3",
      "display_name": "Python 3"
    },
    "language_info": {
      "name": "python"
    }
  },
  "cells": [
    {
      "cell_type": "code",
      "execution_count": 1,
      "metadata": {
        "colab": {
          "base_uri": "https://localhost:8080/"
        },
        "id": "-Vvbt6OSDFBO",
        "outputId": "7a202b34-06e2-4aed-d5f4-1d640bda63c2"
      },
      "outputs": [
        {
          "output_type": "stream",
          "name": "stdout",
          "text": [
            "Mounted at /content/drive\n"
          ]
        }
      ],
      "source": [
        "from google.colab import drive\n",
        "drive.mount('/content/drive')"
      ]
    },
    {
      "cell_type": "code",
      "source": [
        "import os\n",
        "import json\n",
        "import cv2\n",
        "import sys\n",
        "import numpy as np\n",
        "import pandas as pd\n",
        "from sklearn import preprocessing\n",
        "import matplotlib.pyplot as plt\n",
        "%matplotlib inline\n",
        "\n",
        "from keras.utils import pad_sequences\n",
        "from keras.utils import to_categorical\n",
        "from keras.layers import Dense, Input, Flatten\n",
        "from keras.layers import Reshape, Dropout, Concatenate\n",
        "from keras.layers import Conv2D, MaxPool2D, Embedding\n",
        "from keras.models import Model\n",
        "from keras.layers import Dropout"
      ],
      "metadata": {
        "id": "69uRi_cdDZtT"
      },
      "execution_count": 2,
      "outputs": []
    },
    {
      "cell_type": "code",
      "source": [
        "# Data Cleaning and preprocessing\n",
        "import numpy as np\n",
        "import nltk\n",
        "from nltk.tokenize import word_tokenize\n",
        "from nltk.stem import WordNetLemmatizer\n",
        "from nltk.corpus import stopwords\n",
        "import random\n",
        "import re\n",
        "from sklearn.feature_extraction.text import TfidfVectorizer\n",
        "from sklearn.feature_selection import chi2"
      ],
      "metadata": {
        "id": "fyFIcWTqXHC_"
      },
      "execution_count": 3,
      "outputs": []
    },
    {
      "cell_type": "markdown",
      "source": [
        "# Data Loading"
      ],
      "metadata": {
        "id": "boDTEUAnCMUG"
      }
    },
    {
      "cell_type": "code",
      "source": [
        "# Models\n",
        "from sklearn.naive_bayes import MultinomialNB\n",
        "from sklearn.neural_network import MLPClassifier\n",
        "from sklearn.svm import SVC\n",
        "from xgboost import XGBClassifier"
      ],
      "metadata": {
        "id": "7Zxt40zIXDHH"
      },
      "execution_count": 4,
      "outputs": []
    },
    {
      "cell_type": "code",
      "source": [
        "# Evaluation\n",
        "from sklearn.metrics import accuracy_score, classification_report, precision_recall_fscore_support\n",
        "from sklearn import metrics\n",
        "import matplotlib.pyplot as plt\n",
        "import itertools\n",
        "%matplotlib inline"
      ],
      "metadata": {
        "id": "ksWtzQJuXErt"
      },
      "execution_count": 5,
      "outputs": []
    },
    {
      "cell_type": "code",
      "source": [
        "# Read data from JSON file\n",
        "with open('/content/drive/MyDrive/Q3/data_full.json') as json_file: \n",
        "    data_dict = json.load(json_file) \n"
      ],
      "metadata": {
        "id": "h81ak0DrDkGS"
      },
      "execution_count": 6,
      "outputs": []
    },
    {
      "cell_type": "code",
      "source": [
        "# Load data into respective dicts\n",
        "train_data = data_dict['train']\n",
        "val_data = data_dict['val']\n",
        "test_data = data_dict['test']"
      ],
      "metadata": {
        "id": "oLxZhq0ZVVe9"
      },
      "execution_count": 7,
      "outputs": []
    },
    {
      "cell_type": "code",
      "source": [
        "from pandas import DataFrame\n",
        "train = DataFrame(train_data, columns = ['Query','Intent'])\n",
        "test = DataFrame(test_data, columns=['Query','Intent'])\n",
        "val = DataFrame(val_data, columns=['Query','Intent'])\n"
      ],
      "metadata": {
        "id": "uGvlKxzaFTPT"
      },
      "execution_count": 8,
      "outputs": []
    },
    {
      "cell_type": "code",
      "source": [
        "# Selected 20 output intents\n",
        "intent_small = [\"balance\", \"pin_change\",\"credit_score\", \"rewards_balance\",\"calories\",\n",
        "                \"restaurant_reviews\", \"shopping_list\", \"next_song\", \"traffic\",\"uber\",\n",
        "                \"translate\", \"vaccines\",\"alarm\", \"date\", \"taxes\", \n",
        "                \"insurance\", \"greeting\", \"fun_fact\",\"cancel\", \"yes\"]"
      ],
      "metadata": {
        "id": "uxNXfIiYU1hg"
      },
      "execution_count": 9,
      "outputs": []
    },
    {
      "cell_type": "code",
      "source": [
        "# Filter dataframes with selected 20 intents\n",
        "train_df_small = train[train['Intent'].isin(intent_small)]\n",
        "val_df_small = val[val['Intent'].isin(intent_small)]\n",
        "test_df_small = test[test['Intent'].isin(intent_small)]\n",
        "print(\"Total Samples-: Train: {0}, Validation: {1}, Test: {2}\".format(len(train_df_small),len(val_df_small),len(test_df_small)))\n",
        "\n",
        "# Append all sets together for ease of vectorization in further steps. Although, individual dataframes can be used as well.\n",
        "entire_small_df = train_df_small.append(val_df_small).append(test_df_small)\n",
        "print(\"Total Samples combined: \",len(entire_small_df))"
      ],
      "metadata": {
        "colab": {
          "base_uri": "https://localhost:8080/"
        },
        "id": "0nMn1OSrU5vt",
        "outputId": "8179f8e3-7e0f-415c-d744-de70ff251e44"
      },
      "execution_count": 10,
      "outputs": [
        {
          "output_type": "stream",
          "name": "stdout",
          "text": [
            "Total Samples-: Train: 2000, Validation: 400, Test: 600\n",
            "Total Samples combined:  3000\n"
          ]
        }
      ]
    },
    {
      "cell_type": "code",
      "source": [
        "train.head(5)"
      ],
      "metadata": {
        "colab": {
          "base_uri": "https://localhost:8080/",
          "height": 206
        },
        "id": "FNHPZ7glnKcV",
        "outputId": "1036a17a-f4b2-46d2-fdfc-37143ba13f4c"
      },
      "execution_count": null,
      "outputs": [
        {
          "output_type": "execute_result",
          "data": {
            "text/plain": [
              "                                               Query          Intent\n",
              "0  can you walk me through setting up direct depo...  direct_deposit\n",
              "1                 i want to switch to direct deposit  direct_deposit\n",
              "2                       set up direct deposit for me  direct_deposit\n",
              "3        how do i go about setting up direct deposit  direct_deposit\n",
              "4  i need to get my paycheck direct deposited to ...  direct_deposit"
            ],
            "text/html": [
              "\n",
              "  <div id=\"df-9fc52529-a055-4023-b5a5-68b0eb81ea80\">\n",
              "    <div class=\"colab-df-container\">\n",
              "      <div>\n",
              "<style scoped>\n",
              "    .dataframe tbody tr th:only-of-type {\n",
              "        vertical-align: middle;\n",
              "    }\n",
              "\n",
              "    .dataframe tbody tr th {\n",
              "        vertical-align: top;\n",
              "    }\n",
              "\n",
              "    .dataframe thead th {\n",
              "        text-align: right;\n",
              "    }\n",
              "</style>\n",
              "<table border=\"1\" class=\"dataframe\">\n",
              "  <thead>\n",
              "    <tr style=\"text-align: right;\">\n",
              "      <th></th>\n",
              "      <th>Query</th>\n",
              "      <th>Intent</th>\n",
              "    </tr>\n",
              "  </thead>\n",
              "  <tbody>\n",
              "    <tr>\n",
              "      <th>0</th>\n",
              "      <td>can you walk me through setting up direct depo...</td>\n",
              "      <td>direct_deposit</td>\n",
              "    </tr>\n",
              "    <tr>\n",
              "      <th>1</th>\n",
              "      <td>i want to switch to direct deposit</td>\n",
              "      <td>direct_deposit</td>\n",
              "    </tr>\n",
              "    <tr>\n",
              "      <th>2</th>\n",
              "      <td>set up direct deposit for me</td>\n",
              "      <td>direct_deposit</td>\n",
              "    </tr>\n",
              "    <tr>\n",
              "      <th>3</th>\n",
              "      <td>how do i go about setting up direct deposit</td>\n",
              "      <td>direct_deposit</td>\n",
              "    </tr>\n",
              "    <tr>\n",
              "      <th>4</th>\n",
              "      <td>i need to get my paycheck direct deposited to ...</td>\n",
              "      <td>direct_deposit</td>\n",
              "    </tr>\n",
              "  </tbody>\n",
              "</table>\n",
              "</div>\n",
              "      <button class=\"colab-df-convert\" onclick=\"convertToInteractive('df-9fc52529-a055-4023-b5a5-68b0eb81ea80')\"\n",
              "              title=\"Convert this dataframe to an interactive table.\"\n",
              "              style=\"display:none;\">\n",
              "        \n",
              "  <svg xmlns=\"http://www.w3.org/2000/svg\" height=\"24px\"viewBox=\"0 0 24 24\"\n",
              "       width=\"24px\">\n",
              "    <path d=\"M0 0h24v24H0V0z\" fill=\"none\"/>\n",
              "    <path d=\"M18.56 5.44l.94 2.06.94-2.06 2.06-.94-2.06-.94-.94-2.06-.94 2.06-2.06.94zm-11 1L8.5 8.5l.94-2.06 2.06-.94-2.06-.94L8.5 2.5l-.94 2.06-2.06.94zm10 10l.94 2.06.94-2.06 2.06-.94-2.06-.94-.94-2.06-.94 2.06-2.06.94z\"/><path d=\"M17.41 7.96l-1.37-1.37c-.4-.4-.92-.59-1.43-.59-.52 0-1.04.2-1.43.59L10.3 9.45l-7.72 7.72c-.78.78-.78 2.05 0 2.83L4 21.41c.39.39.9.59 1.41.59.51 0 1.02-.2 1.41-.59l7.78-7.78 2.81-2.81c.8-.78.8-2.07 0-2.86zM5.41 20L4 18.59l7.72-7.72 1.47 1.35L5.41 20z\"/>\n",
              "  </svg>\n",
              "      </button>\n",
              "      \n",
              "  <style>\n",
              "    .colab-df-container {\n",
              "      display:flex;\n",
              "      flex-wrap:wrap;\n",
              "      gap: 12px;\n",
              "    }\n",
              "\n",
              "    .colab-df-convert {\n",
              "      background-color: #E8F0FE;\n",
              "      border: none;\n",
              "      border-radius: 50%;\n",
              "      cursor: pointer;\n",
              "      display: none;\n",
              "      fill: #1967D2;\n",
              "      height: 32px;\n",
              "      padding: 0 0 0 0;\n",
              "      width: 32px;\n",
              "    }\n",
              "\n",
              "    .colab-df-convert:hover {\n",
              "      background-color: #E2EBFA;\n",
              "      box-shadow: 0px 1px 2px rgba(60, 64, 67, 0.3), 0px 1px 3px 1px rgba(60, 64, 67, 0.15);\n",
              "      fill: #174EA6;\n",
              "    }\n",
              "\n",
              "    [theme=dark] .colab-df-convert {\n",
              "      background-color: #3B4455;\n",
              "      fill: #D2E3FC;\n",
              "    }\n",
              "\n",
              "    [theme=dark] .colab-df-convert:hover {\n",
              "      background-color: #434B5C;\n",
              "      box-shadow: 0px 1px 3px 1px rgba(0, 0, 0, 0.15);\n",
              "      filter: drop-shadow(0px 1px 2px rgba(0, 0, 0, 0.3));\n",
              "      fill: #FFFFFF;\n",
              "    }\n",
              "  </style>\n",
              "\n",
              "      <script>\n",
              "        const buttonEl =\n",
              "          document.querySelector('#df-9fc52529-a055-4023-b5a5-68b0eb81ea80 button.colab-df-convert');\n",
              "        buttonEl.style.display =\n",
              "          google.colab.kernel.accessAllowed ? 'block' : 'none';\n",
              "\n",
              "        async function convertToInteractive(key) {\n",
              "          const element = document.querySelector('#df-9fc52529-a055-4023-b5a5-68b0eb81ea80');\n",
              "          const dataTable =\n",
              "            await google.colab.kernel.invokeFunction('convertToInteractive',\n",
              "                                                     [key], {});\n",
              "          if (!dataTable) return;\n",
              "\n",
              "          const docLinkHtml = 'Like what you see? Visit the ' +\n",
              "            '<a target=\"_blank\" href=https://colab.research.google.com/notebooks/data_table.ipynb>data table notebook</a>'\n",
              "            + ' to learn more about interactive tables.';\n",
              "          element.innerHTML = '';\n",
              "          dataTable['output_type'] = 'display_data';\n",
              "          await google.colab.output.renderOutput(dataTable, element);\n",
              "          const docLink = document.createElement('div');\n",
              "          docLink.innerHTML = docLinkHtml;\n",
              "          element.appendChild(docLink);\n",
              "        }\n",
              "      </script>\n",
              "    </div>\n",
              "  </div>\n",
              "  "
            ]
          },
          "metadata": {},
          "execution_count": 65
        }
      ]
    },
    {
      "cell_type": "code",
      "source": [
        "test.head(5)"
      ],
      "metadata": {
        "colab": {
          "base_uri": "https://localhost:8080/",
          "height": 206
        },
        "id": "P0XAcFZdnRnf",
        "outputId": "84189f6a-f1ec-4328-a82a-1a7e1a60fcfc"
      },
      "execution_count": null,
      "outputs": [
        {
          "output_type": "execute_result",
          "data": {
            "text/plain": [
              "                                 Query     Intent\n",
              "0     how would you say fly in italian  translate\n",
              "1    what's the spanish word for pasta  translate\n",
              "2  how would they say butter in zambia  translate\n",
              "3       how do you say fast in spanish  translate\n",
              "4  what's the word for trees in norway  translate"
            ],
            "text/html": [
              "\n",
              "  <div id=\"df-24d54e1b-ff46-4dc5-bb3c-ace6ea40b966\">\n",
              "    <div class=\"colab-df-container\">\n",
              "      <div>\n",
              "<style scoped>\n",
              "    .dataframe tbody tr th:only-of-type {\n",
              "        vertical-align: middle;\n",
              "    }\n",
              "\n",
              "    .dataframe tbody tr th {\n",
              "        vertical-align: top;\n",
              "    }\n",
              "\n",
              "    .dataframe thead th {\n",
              "        text-align: right;\n",
              "    }\n",
              "</style>\n",
              "<table border=\"1\" class=\"dataframe\">\n",
              "  <thead>\n",
              "    <tr style=\"text-align: right;\">\n",
              "      <th></th>\n",
              "      <th>Query</th>\n",
              "      <th>Intent</th>\n",
              "    </tr>\n",
              "  </thead>\n",
              "  <tbody>\n",
              "    <tr>\n",
              "      <th>0</th>\n",
              "      <td>how would you say fly in italian</td>\n",
              "      <td>translate</td>\n",
              "    </tr>\n",
              "    <tr>\n",
              "      <th>1</th>\n",
              "      <td>what's the spanish word for pasta</td>\n",
              "      <td>translate</td>\n",
              "    </tr>\n",
              "    <tr>\n",
              "      <th>2</th>\n",
              "      <td>how would they say butter in zambia</td>\n",
              "      <td>translate</td>\n",
              "    </tr>\n",
              "    <tr>\n",
              "      <th>3</th>\n",
              "      <td>how do you say fast in spanish</td>\n",
              "      <td>translate</td>\n",
              "    </tr>\n",
              "    <tr>\n",
              "      <th>4</th>\n",
              "      <td>what's the word for trees in norway</td>\n",
              "      <td>translate</td>\n",
              "    </tr>\n",
              "  </tbody>\n",
              "</table>\n",
              "</div>\n",
              "      <button class=\"colab-df-convert\" onclick=\"convertToInteractive('df-24d54e1b-ff46-4dc5-bb3c-ace6ea40b966')\"\n",
              "              title=\"Convert this dataframe to an interactive table.\"\n",
              "              style=\"display:none;\">\n",
              "        \n",
              "  <svg xmlns=\"http://www.w3.org/2000/svg\" height=\"24px\"viewBox=\"0 0 24 24\"\n",
              "       width=\"24px\">\n",
              "    <path d=\"M0 0h24v24H0V0z\" fill=\"none\"/>\n",
              "    <path d=\"M18.56 5.44l.94 2.06.94-2.06 2.06-.94-2.06-.94-.94-2.06-.94 2.06-2.06.94zm-11 1L8.5 8.5l.94-2.06 2.06-.94-2.06-.94L8.5 2.5l-.94 2.06-2.06.94zm10 10l.94 2.06.94-2.06 2.06-.94-2.06-.94-.94-2.06-.94 2.06-2.06.94z\"/><path d=\"M17.41 7.96l-1.37-1.37c-.4-.4-.92-.59-1.43-.59-.52 0-1.04.2-1.43.59L10.3 9.45l-7.72 7.72c-.78.78-.78 2.05 0 2.83L4 21.41c.39.39.9.59 1.41.59.51 0 1.02-.2 1.41-.59l7.78-7.78 2.81-2.81c.8-.78.8-2.07 0-2.86zM5.41 20L4 18.59l7.72-7.72 1.47 1.35L5.41 20z\"/>\n",
              "  </svg>\n",
              "      </button>\n",
              "      \n",
              "  <style>\n",
              "    .colab-df-container {\n",
              "      display:flex;\n",
              "      flex-wrap:wrap;\n",
              "      gap: 12px;\n",
              "    }\n",
              "\n",
              "    .colab-df-convert {\n",
              "      background-color: #E8F0FE;\n",
              "      border: none;\n",
              "      border-radius: 50%;\n",
              "      cursor: pointer;\n",
              "      display: none;\n",
              "      fill: #1967D2;\n",
              "      height: 32px;\n",
              "      padding: 0 0 0 0;\n",
              "      width: 32px;\n",
              "    }\n",
              "\n",
              "    .colab-df-convert:hover {\n",
              "      background-color: #E2EBFA;\n",
              "      box-shadow: 0px 1px 2px rgba(60, 64, 67, 0.3), 0px 1px 3px 1px rgba(60, 64, 67, 0.15);\n",
              "      fill: #174EA6;\n",
              "    }\n",
              "\n",
              "    [theme=dark] .colab-df-convert {\n",
              "      background-color: #3B4455;\n",
              "      fill: #D2E3FC;\n",
              "    }\n",
              "\n",
              "    [theme=dark] .colab-df-convert:hover {\n",
              "      background-color: #434B5C;\n",
              "      box-shadow: 0px 1px 3px 1px rgba(0, 0, 0, 0.15);\n",
              "      filter: drop-shadow(0px 1px 2px rgba(0, 0, 0, 0.3));\n",
              "      fill: #FFFFFF;\n",
              "    }\n",
              "  </style>\n",
              "\n",
              "      <script>\n",
              "        const buttonEl =\n",
              "          document.querySelector('#df-24d54e1b-ff46-4dc5-bb3c-ace6ea40b966 button.colab-df-convert');\n",
              "        buttonEl.style.display =\n",
              "          google.colab.kernel.accessAllowed ? 'block' : 'none';\n",
              "\n",
              "        async function convertToInteractive(key) {\n",
              "          const element = document.querySelector('#df-24d54e1b-ff46-4dc5-bb3c-ace6ea40b966');\n",
              "          const dataTable =\n",
              "            await google.colab.kernel.invokeFunction('convertToInteractive',\n",
              "                                                     [key], {});\n",
              "          if (!dataTable) return;\n",
              "\n",
              "          const docLinkHtml = 'Like what you see? Visit the ' +\n",
              "            '<a target=\"_blank\" href=https://colab.research.google.com/notebooks/data_table.ipynb>data table notebook</a>'\n",
              "            + ' to learn more about interactive tables.';\n",
              "          element.innerHTML = '';\n",
              "          dataTable['output_type'] = 'display_data';\n",
              "          await google.colab.output.renderOutput(dataTable, element);\n",
              "          const docLink = document.createElement('div');\n",
              "          docLink.innerHTML = docLinkHtml;\n",
              "          element.appendChild(docLink);\n",
              "        }\n",
              "      </script>\n",
              "    </div>\n",
              "  </div>\n",
              "  "
            ]
          },
          "metadata": {},
          "execution_count": 66
        }
      ]
    },
    {
      "cell_type": "code",
      "source": [
        "# Show label unique\n",
        "print(np.unique(train[\"Intent\"]))\n",
        "total_label = int(len(np.unique(train[\"Intent\"])))\n",
        "print(\"\\n ====>   Total: \", total_label)"
      ],
      "metadata": {
        "colab": {
          "base_uri": "https://localhost:8080/"
        },
        "id": "l445foURncwj",
        "outputId": "5a94bae4-6f9e-49d2-fe03-3b23d8d09db7"
      },
      "execution_count": 11,
      "outputs": [
        {
          "output_type": "stream",
          "name": "stdout",
          "text": [
            "['accept_reservations' 'account_blocked' 'alarm' 'application_status'\n",
            " 'apr' 'are_you_a_bot' 'balance' 'bill_balance' 'bill_due' 'book_flight'\n",
            " 'book_hotel' 'calculator' 'calendar' 'calendar_update' 'calories'\n",
            " 'cancel' 'cancel_reservation' 'car_rental' 'card_declined' 'carry_on'\n",
            " 'change_accent' 'change_ai_name' 'change_language' 'change_speed'\n",
            " 'change_user_name' 'change_volume' 'confirm_reservation' 'cook_time'\n",
            " 'credit_limit' 'credit_limit_change' 'credit_score' 'current_location'\n",
            " 'damaged_card' 'date' 'definition' 'direct_deposit' 'directions'\n",
            " 'distance' 'do_you_have_pets' 'exchange_rate' 'expiration_date'\n",
            " 'find_phone' 'flight_status' 'flip_coin' 'food_last' 'freeze_account'\n",
            " 'fun_fact' 'gas' 'gas_type' 'goodbye' 'greeting' 'how_busy'\n",
            " 'how_old_are_you' 'improve_credit_score' 'income'\n",
            " 'ingredient_substitution' 'ingredients_list' 'insurance'\n",
            " 'insurance_change' 'interest_rate' 'international_fees'\n",
            " 'international_visa' 'jump_start' 'last_maintenance' 'lost_luggage'\n",
            " 'make_call' 'maybe' 'meal_suggestion' 'meaning_of_life'\n",
            " 'measurement_conversion' 'meeting_schedule' 'min_payment' 'mpg'\n",
            " 'new_card' 'next_holiday' 'next_song' 'no' 'nutrition_info'\n",
            " 'oil_change_how' 'oil_change_when' 'order' 'order_checks' 'order_status'\n",
            " 'pay_bill' 'payday' 'pin_change' 'play_music' 'plug_type' 'pto_balance'\n",
            " 'pto_request' 'pto_request_status' 'pto_used' 'recipe' 'redeem_rewards'\n",
            " 'reminder' 'reminder_update' 'repeat' 'replacement_card_duration'\n",
            " 'report_fraud' 'report_lost_card' 'reset_settings'\n",
            " 'restaurant_reservation' 'restaurant_reviews' 'restaurant_suggestion'\n",
            " 'rewards_balance' 'roll_dice' 'rollover_401k' 'routing'\n",
            " 'schedule_maintenance' 'schedule_meeting' 'share_location'\n",
            " 'shopping_list' 'shopping_list_update' 'smart_home' 'spelling'\n",
            " 'spending_history' 'sync_device' 'taxes' 'tell_joke' 'text' 'thank_you'\n",
            " 'time' 'timer' 'timezone' 'tire_change' 'tire_pressure' 'todo_list'\n",
            " 'todo_list_update' 'traffic' 'transactions' 'transfer' 'translate'\n",
            " 'travel_alert' 'travel_notification' 'travel_suggestion' 'uber'\n",
            " 'update_playlist' 'user_name' 'vaccines' 'w2' 'weather'\n",
            " 'what_are_your_hobbies' 'what_can_i_ask_you' 'what_is_your_name'\n",
            " 'what_song' 'where_are_you_from' 'whisper_mode' 'who_do_you_work_for'\n",
            " 'who_made_you' 'yes']\n",
            "\n",
            " ====>   Total:  150\n"
          ]
        }
      ]
    },
    {
      "cell_type": "code",
      "source": [
        "# Check balance data\n",
        "train['Intent'].value_counts()[:20]"
      ],
      "metadata": {
        "colab": {
          "base_uri": "https://localhost:8080/"
        },
        "id": "Ofl9HCUwnmOW",
        "outputId": "e028e2ce-bd8d-46f5-e531-b977fec984fd"
      },
      "execution_count": 12,
      "outputs": [
        {
          "output_type": "execute_result",
          "data": {
            "text/plain": [
              "translate                 100\n",
              "order_status              100\n",
              "goodbye                   100\n",
              "account_blocked           100\n",
              "what_song                 100\n",
              "international_fees        100\n",
              "last_maintenance          100\n",
              "meeting_schedule          100\n",
              "ingredients_list          100\n",
              "report_fraud              100\n",
              "measurement_conversion    100\n",
              "smart_home                100\n",
              "book_hotel                100\n",
              "current_location          100\n",
              "weather                   100\n",
              "taxes                     100\n",
              "min_payment               100\n",
              "pin_change                100\n",
              "accept_reservations       100\n",
              "cancel                    100\n",
              "Name: Intent, dtype: int64"
            ]
          },
          "metadata": {},
          "execution_count": 12
        }
      ]
    },
    {
      "cell_type": "code",
      "source": [
        "# Get sentences into list\n",
        "entire_sents = list(entire_small_df[\"Query\"])\n",
        "entire_intents = list(entire_small_df[\"Intent\"])"
      ],
      "metadata": {
        "id": "xpyzh8ODWJXp"
      },
      "execution_count": 13,
      "outputs": []
    },
    {
      "cell_type": "code",
      "source": [
        "# Prepare Labels and for every sample, assign an unique category id to each intent in a new column in dataframe.\n",
        "entire_small_df['category_id'] = entire_small_df['Intent'].factorize()[0]\n",
        "category_id_df = entire_small_df[['Intent', 'category_id']].drop_duplicates().sort_values('category_id')\n",
        "category_to_id = dict(category_id_df.values)\n",
        "id_to_category = dict(category_id_df[['category_id', 'Intent']].values)\n",
        "labels = entire_small_df.category_id"
      ],
      "metadata": {
        "id": "SjZX3cKvWNfu"
      },
      "execution_count": 14,
      "outputs": []
    },
    {
      "cell_type": "markdown",
      "source": [
        "# Data Cleaning"
      ],
      "metadata": {
        "id": "dFypC04aWbWO"
      }
    },
    {
      "cell_type": "code",
      "source": [
        "def cleaning(sents):\n",
        "    words = []\n",
        "    lemmatizer = WordNetLemmatizer()\n",
        "    for sent in sents:\n",
        "        # Remove anything that is not alphanumeric character\n",
        "        cleaned_sent = re.sub(r'[^ a-z A-Z 0-9]', \" \", sent)\n",
        "        # Split sentence into chunks of words i.e. tokens\n",
        "        word = nltk.tokenize.word_tokenize(cleaned_sent)\n",
        "        # Lemmatize the tokens i.e. convert it to its dictionary form\n",
        "        words.append([lemmatizer.lemmatize(w.lower()) for w in word])\n",
        "        \n",
        "    return words"
      ],
      "metadata": {
        "id": "ns_n_mBuW7E1"
      },
      "execution_count": 15,
      "outputs": []
    },
    {
      "cell_type": "code",
      "source": [
        "import nltk\n",
        "nltk.download('wordnet')"
      ],
      "metadata": {
        "colab": {
          "base_uri": "https://localhost:8080/"
        },
        "id": "vWO4ELyJX_FB",
        "outputId": "dc083581-41ff-4076-9636-2c5fec967043"
      },
      "execution_count": 21,
      "outputs": [
        {
          "output_type": "stream",
          "name": "stderr",
          "text": [
            "[nltk_data] Downloading package wordnet to /root/nltk_data...\n"
          ]
        },
        {
          "output_type": "execute_result",
          "data": {
            "text/plain": [
              "True"
            ]
          },
          "metadata": {},
          "execution_count": 21
        }
      ]
    },
    {
      "cell_type": "code",
      "source": [
        "cleaned_entire_sents = cleaning(entire_sents)\n",
        "print(cleaned_entire_sents[10:15])"
      ],
      "metadata": {
        "colab": {
          "base_uri": "https://localhost:8080/"
        },
        "id": "bmIqa-KtXXX2",
        "outputId": "0cddeef9-5bdb-4598-f22f-41f7589d79cc"
      },
      "execution_count": 22,
      "outputs": [
        {
          "output_type": "stream",
          "name": "stdout",
          "text": [
            "[['how', 'would', 'i', 'say', 'i', 'don', 't', 'know', 'the', 'answer', 'in', 'spanish'], ['i', 'would', 'like', 'to', 'know', 'the', 'proper', 'way', 'to', 'greet', 'an', 'adult', 'in', 'portuguese'], ['what', 'word', 'would', 'i', 'use', 'to', 'tell', 'someone', 'i', 'am', 'lost', 'if', 'i', 'were', 'japanese'], ['how', 'would', 'i', 'say', 'thank', 'you', 'if', 'i', 'were', 'russian'], ['can', 'you', 'tell', 'me', 'how', 'i', 'would', 'normally', 'say', 'thank', 'you', 'a', 'a', 'french', 'person']]\n"
          ]
        }
      ]
    },
    {
      "cell_type": "markdown",
      "source": [
        "# Feature Selection and Vectorization"
      ],
      "metadata": {
        "id": "mrpKQhueZLxD"
      }
    },
    {
      "cell_type": "code",
      "source": [
        "def temp_tokenizer(text):\n",
        "    return text"
      ],
      "metadata": {
        "id": "lPq33qOgZM0l"
      },
      "execution_count": 23,
      "outputs": []
    },
    {
      "cell_type": "code",
      "source": [
        "# Feature size is limited to 8000 which is large enough to include all the important N-grams\n",
        "# A dummy tokenizer is passed to include a list of lists inside the vectorizer\n",
        "tfidf = TfidfVectorizer(max_features=8000, lowercase=False, tokenizer=temp_tokenizer, ngram_range=(1,2))\n",
        "X_entire = tfidf.fit_transform(cleaned_entire_sents).toarray()"
      ],
      "metadata": {
        "id": "66QGPXRZZSQ4"
      },
      "execution_count": 24,
      "outputs": []
    },
    {
      "cell_type": "code",
      "source": [
        "# Validating N-Grams to see the features representing the intent classes\n",
        "N = 2 # 3\n",
        "for classs, category_id in sorted(category_to_id.items()):\n",
        "    features_chi2 = chi2(X_entire, labels == category_id)\n",
        "    indices = np.argsort(features_chi2[0])\n",
        "    feature_names = np.array(tfidf.get_feature_names())[indices]\n",
        "    unigrams = [v for v in feature_names if len(v.split(' ')) == 1]\n",
        "    bigrams = [v for v in feature_names if len(v.split(' ')) == 2]\n",
        "    #trigrams = [v for v in feature_names if len(v.split(' ')) == 3]\n",
        "    print(\"# '{}':\".format(classs))\n",
        "    print(\"  - Most correlated unigrams:\\n. {}\".format('\\n. '.join(unigrams[-N:])))\n",
        "    print(\"  - Most correlated bigrams:\\n. {}\".format('\\n. '.join(bigrams[-N:])))\n",
        "    #print(\"  - Most correlated trigrams:\\n. {}\".format('\\n. '.join(trigrams[-N:])))"
      ],
      "metadata": {
        "colab": {
          "base_uri": "https://localhost:8080/"
        },
        "id": "-1J-E5YzZVEo",
        "outputId": "d281ed5b-ada8-4cf9-b6da-567105c6812e"
      },
      "execution_count": 25,
      "outputs": [
        {
          "output_type": "stream",
          "name": "stderr",
          "text": [
            "/usr/local/lib/python3.8/dist-packages/sklearn/utils/deprecation.py:87: FutureWarning: Function get_feature_names is deprecated; get_feature_names is deprecated in 1.0 and will be removed in 1.2. Please use get_feature_names_out instead.\n",
            "  warnings.warn(msg, category=FutureWarning)\n",
            "/usr/local/lib/python3.8/dist-packages/sklearn/utils/deprecation.py:87: FutureWarning: Function get_feature_names is deprecated; get_feature_names is deprecated in 1.0 and will be removed in 1.2. Please use get_feature_names_out instead.\n",
            "  warnings.warn(msg, category=FutureWarning)\n",
            "/usr/local/lib/python3.8/dist-packages/sklearn/utils/deprecation.py:87: FutureWarning: Function get_feature_names is deprecated; get_feature_names is deprecated in 1.0 and will be removed in 1.2. Please use get_feature_names_out instead.\n",
            "  warnings.warn(msg, category=FutureWarning)\n"
          ]
        },
        {
          "output_type": "stream",
          "name": "stdout",
          "text": [
            "# 'alarm':\n",
            "  - Most correlated unigrams:\n",
            ". set\n",
            ". alarm\n",
            "  - Most correlated bigrams:\n",
            ". alarm for\n",
            ". an alarm\n",
            "# 'balance':\n",
            "  - Most correlated unigrams:\n",
            ". balance\n",
            ". bank\n",
            "  - Most correlated bigrams:\n",
            ". in my\n",
            ". my bank\n",
            "# 'calories':\n",
            "  - Most correlated unigrams:\n",
            ". many\n",
            ". calorie\n",
            "  - Most correlated bigrams:\n",
            ". calorie are\n",
            ". many calorie\n"
          ]
        },
        {
          "output_type": "stream",
          "name": "stderr",
          "text": [
            "/usr/local/lib/python3.8/dist-packages/sklearn/utils/deprecation.py:87: FutureWarning: Function get_feature_names is deprecated; get_feature_names is deprecated in 1.0 and will be removed in 1.2. Please use get_feature_names_out instead.\n",
            "  warnings.warn(msg, category=FutureWarning)\n",
            "/usr/local/lib/python3.8/dist-packages/sklearn/utils/deprecation.py:87: FutureWarning: Function get_feature_names is deprecated; get_feature_names is deprecated in 1.0 and will be removed in 1.2. Please use get_feature_names_out instead.\n",
            "  warnings.warn(msg, category=FutureWarning)\n",
            "/usr/local/lib/python3.8/dist-packages/sklearn/utils/deprecation.py:87: FutureWarning: Function get_feature_names is deprecated; get_feature_names is deprecated in 1.0 and will be removed in 1.2. Please use get_feature_names_out instead.\n",
            "  warnings.warn(msg, category=FutureWarning)\n"
          ]
        },
        {
          "output_type": "stream",
          "name": "stdout",
          "text": [
            "# 'cancel':\n",
            "  - Most correlated unigrams:\n",
            ". cancel\n",
            ". stop\n",
            "  - Most correlated bigrams:\n",
            ". stop talking\n",
            ". cancel that\n",
            "# 'credit_score':\n",
            "  - Most correlated unigrams:\n",
            ". score\n",
            ". credit\n",
            "  - Most correlated bigrams:\n",
            ". credit score\n",
            ". my credit\n",
            "# 'date':\n",
            "  - Most correlated unigrams:\n",
            ". day\n",
            ". date\n",
            "  - Most correlated bigrams:\n",
            ". s date\n",
            ". the date\n"
          ]
        },
        {
          "output_type": "stream",
          "name": "stderr",
          "text": [
            "/usr/local/lib/python3.8/dist-packages/sklearn/utils/deprecation.py:87: FutureWarning: Function get_feature_names is deprecated; get_feature_names is deprecated in 1.0 and will be removed in 1.2. Please use get_feature_names_out instead.\n",
            "  warnings.warn(msg, category=FutureWarning)\n",
            "/usr/local/lib/python3.8/dist-packages/sklearn/utils/deprecation.py:87: FutureWarning: Function get_feature_names is deprecated; get_feature_names is deprecated in 1.0 and will be removed in 1.2. Please use get_feature_names_out instead.\n",
            "  warnings.warn(msg, category=FutureWarning)\n",
            "/usr/local/lib/python3.8/dist-packages/sklearn/utils/deprecation.py:87: FutureWarning: Function get_feature_names is deprecated; get_feature_names is deprecated in 1.0 and will be removed in 1.2. Please use get_feature_names_out instead.\n",
            "  warnings.warn(msg, category=FutureWarning)\n"
          ]
        },
        {
          "output_type": "stream",
          "name": "stdout",
          "text": [
            "# 'fun_fact':\n",
            "  - Most correlated unigrams:\n",
            ". fact\n",
            ". about\n",
            "  - Most correlated bigrams:\n",
            ". fun fact\n",
            ". fact about\n",
            "# 'greeting':\n",
            "  - Most correlated unigrams:\n",
            ". hi\n",
            ". hey\n",
            "  - Most correlated bigrams:\n",
            ". how are\n",
            ". are you\n",
            "# 'insurance':\n",
            "  - Most correlated unigrams:\n",
            ". benefit\n",
            ". insurance\n",
            "  - Most correlated bigrams:\n",
            ". my insurance\n",
            ". my health\n"
          ]
        },
        {
          "output_type": "stream",
          "name": "stderr",
          "text": [
            "/usr/local/lib/python3.8/dist-packages/sklearn/utils/deprecation.py:87: FutureWarning: Function get_feature_names is deprecated; get_feature_names is deprecated in 1.0 and will be removed in 1.2. Please use get_feature_names_out instead.\n",
            "  warnings.warn(msg, category=FutureWarning)\n",
            "/usr/local/lib/python3.8/dist-packages/sklearn/utils/deprecation.py:87: FutureWarning: Function get_feature_names is deprecated; get_feature_names is deprecated in 1.0 and will be removed in 1.2. Please use get_feature_names_out instead.\n",
            "  warnings.warn(msg, category=FutureWarning)\n"
          ]
        },
        {
          "output_type": "stream",
          "name": "stdout",
          "text": [
            "# 'next_song':\n",
            "  - Most correlated unigrams:\n",
            ". next\n",
            ". song\n",
            "  - Most correlated bigrams:\n",
            ". next song\n",
            ". the next\n",
            "# 'pin_change':\n",
            "  - Most correlated unigrams:\n",
            ". change\n",
            ". pin\n",
            "  - Most correlated bigrams:\n",
            ". my pin\n",
            ". pin number\n"
          ]
        },
        {
          "output_type": "stream",
          "name": "stderr",
          "text": [
            "/usr/local/lib/python3.8/dist-packages/sklearn/utils/deprecation.py:87: FutureWarning: Function get_feature_names is deprecated; get_feature_names is deprecated in 1.0 and will be removed in 1.2. Please use get_feature_names_out instead.\n",
            "  warnings.warn(msg, category=FutureWarning)\n",
            "/usr/local/lib/python3.8/dist-packages/sklearn/utils/deprecation.py:87: FutureWarning: Function get_feature_names is deprecated; get_feature_names is deprecated in 1.0 and will be removed in 1.2. Please use get_feature_names_out instead.\n",
            "  warnings.warn(msg, category=FutureWarning)\n"
          ]
        },
        {
          "output_type": "stream",
          "name": "stdout",
          "text": [
            "# 'restaurant_reviews':\n",
            "  - Most correlated unigrams:\n",
            ". good\n",
            ". review\n",
            "  - Most correlated bigrams:\n",
            ". are the\n",
            ". the review\n",
            "# 'rewards_balance':\n",
            "  - Most correlated unigrams:\n",
            ". card\n",
            ". reward\n",
            "  - Most correlated bigrams:\n",
            ". my reward\n",
            ". reward balance\n"
          ]
        },
        {
          "output_type": "stream",
          "name": "stderr",
          "text": [
            "/usr/local/lib/python3.8/dist-packages/sklearn/utils/deprecation.py:87: FutureWarning: Function get_feature_names is deprecated; get_feature_names is deprecated in 1.0 and will be removed in 1.2. Please use get_feature_names_out instead.\n",
            "  warnings.warn(msg, category=FutureWarning)\n"
          ]
        },
        {
          "output_type": "stream",
          "name": "stdout",
          "text": [
            "# 'shopping_list':\n",
            "  - Most correlated unigrams:\n",
            ". list\n",
            ". shopping\n",
            "  - Most correlated bigrams:\n",
            ". my shopping\n",
            ". shopping list\n"
          ]
        },
        {
          "output_type": "stream",
          "name": "stderr",
          "text": [
            "/usr/local/lib/python3.8/dist-packages/sklearn/utils/deprecation.py:87: FutureWarning: Function get_feature_names is deprecated; get_feature_names is deprecated in 1.0 and will be removed in 1.2. Please use get_feature_names_out instead.\n",
            "  warnings.warn(msg, category=FutureWarning)\n",
            "/usr/local/lib/python3.8/dist-packages/sklearn/utils/deprecation.py:87: FutureWarning: Function get_feature_names is deprecated; get_feature_names is deprecated in 1.0 and will be removed in 1.2. Please use get_feature_names_out instead.\n",
            "  warnings.warn(msg, category=FutureWarning)\n"
          ]
        },
        {
          "output_type": "stream",
          "name": "stdout",
          "text": [
            "# 'taxes':\n",
            "  - Most correlated unigrams:\n",
            ". pay\n",
            ". tax\n",
            "  - Most correlated bigrams:\n",
            ". pay in\n",
            ". state tax\n",
            "# 'traffic':\n",
            "  - Most correlated unigrams:\n",
            ". way\n",
            ". traffic\n",
            "  - Most correlated bigrams:\n",
            ". way to\n",
            ". the traffic\n",
            "# 'translate':\n",
            "  - Most correlated unigrams:\n",
            ". spanish\n",
            ". say\n",
            "  - Most correlated bigrams:\n",
            ". in spanish\n",
            ". i say\n"
          ]
        },
        {
          "output_type": "stream",
          "name": "stderr",
          "text": [
            "/usr/local/lib/python3.8/dist-packages/sklearn/utils/deprecation.py:87: FutureWarning: Function get_feature_names is deprecated; get_feature_names is deprecated in 1.0 and will be removed in 1.2. Please use get_feature_names_out instead.\n",
            "  warnings.warn(msg, category=FutureWarning)\n",
            "/usr/local/lib/python3.8/dist-packages/sklearn/utils/deprecation.py:87: FutureWarning: Function get_feature_names is deprecated; get_feature_names is deprecated in 1.0 and will be removed in 1.2. Please use get_feature_names_out instead.\n",
            "  warnings.warn(msg, category=FutureWarning)\n"
          ]
        },
        {
          "output_type": "stream",
          "name": "stdout",
          "text": [
            "# 'uber':\n",
            "  - Most correlated unigrams:\n",
            ". an\n",
            ". uber\n",
            "  - Most correlated bigrams:\n",
            ". uber to\n",
            ". an uber\n",
            "# 'vaccines':\n",
            "  - Most correlated unigrams:\n",
            ". before\n",
            ". shot\n",
            "  - Most correlated bigrams:\n",
            ". before i\n",
            ". travel to\n"
          ]
        },
        {
          "output_type": "stream",
          "name": "stderr",
          "text": [
            "/usr/local/lib/python3.8/dist-packages/sklearn/utils/deprecation.py:87: FutureWarning: Function get_feature_names is deprecated; get_feature_names is deprecated in 1.0 and will be removed in 1.2. Please use get_feature_names_out instead.\n",
            "  warnings.warn(msg, category=FutureWarning)\n",
            "/usr/local/lib/python3.8/dist-packages/sklearn/utils/deprecation.py:87: FutureWarning: Function get_feature_names is deprecated; get_feature_names is deprecated in 1.0 and will be removed in 1.2. Please use get_feature_names_out instead.\n",
            "  warnings.warn(msg, category=FutureWarning)\n"
          ]
        },
        {
          "output_type": "stream",
          "name": "stdout",
          "text": [
            "# 'yes':\n",
            "  - Most correlated unigrams:\n",
            ". true\n",
            ". yes\n",
            "  - Most correlated bigrams:\n",
            ". that is\n",
            ". that s\n"
          ]
        }
      ]
    },
    {
      "cell_type": "markdown",
      "source": [
        "# Data Split"
      ],
      "metadata": {
        "id": "rttFvPsgZaBP"
      }
    },
    {
      "cell_type": "code",
      "source": [
        "# First 2000 rows corresponds to training data\n",
        "X_train = X_entire[:2000]\n",
        "y_train = entire_intents[:2000]\n",
        "\n",
        "# Rows 2400 to 3000 corresponds to Testing data\n",
        "X_test = X_entire[2400:]\n",
        "y_test = entire_intents[2400:]"
      ],
      "metadata": {
        "id": "AIMzrvF-ZbuW"
      },
      "execution_count": 26,
      "outputs": []
    },
    {
      "cell_type": "markdown",
      "source": [
        "# Classifier Model Preparation"
      ],
      "metadata": {
        "id": "fTpfLldNZd1n"
      }
    },
    {
      "cell_type": "code",
      "source": [
        "mlp_classifier = MLPClassifier()\n",
        "\n",
        "clf_dict = {\"MultilayerPercpClassifier\":mlp_classifier}"
      ],
      "metadata": {
        "id": "VG6D98HEZe6n"
      },
      "execution_count": 27,
      "outputs": []
    },
    {
      "cell_type": "code",
      "source": [
        "def fit_classifier(label, clf, X_train, y_train):\n",
        "    print('======================================================')\n",
        "    print(\"Training Classifier : \", label)\n",
        "    return clf.fit(X_train, y_train)"
      ],
      "metadata": {
        "id": "Qjw9mP5EZi7g"
      },
      "execution_count": 28,
      "outputs": []
    },
    {
      "cell_type": "code",
      "source": [
        "def evaluate_classifier(label, clf, X_test, y_test):\n",
        "    print('======================================================')\n",
        "    print(\"Testing Classifier: \", label)\n",
        "    \n",
        "    y_pred = clf.predict(X_test)\n",
        "    #classification_report = classification_report(y_test, y_pred)\n",
        "    accuracy = accuracy_score(y_test, y_pred)\n",
        "    precision,recall,fscore,support=precision_recall_fscore_support(y_test,y_pred,average='macro')\n",
        "    print('\\nClassification Metrics:')\n",
        "    print('Precision : {}'.format(precision))\n",
        "    print('Recall    : {}'.format(recall))\n",
        "    print('F-score   : {}'.format(fscore))\n",
        "    print('Accuracy  : {}'.format(accuracy))\n",
        "    print('======================================================')"
      ],
      "metadata": {
        "id": "AsBMw5h_ZmQU"
      },
      "execution_count": 29,
      "outputs": []
    },
    {
      "cell_type": "code",
      "source": [
        "def train_and_evaluate_clf(clf_dict, X_train, y_train, X_test, y_test):\n",
        "    \n",
        "    print(\"Training and Evaluating all the models:\")\n",
        "    \n",
        "    for label, clf in clf_dict.items():\n",
        "        \n",
        "        trained_classifier = fit_classifier(label, clf, X_train, y_train)\n",
        "        print('======================================================')\n",
        "        \n",
        "        evaluate_classifier(label, trained_classifier, X_test, y_test)"
      ],
      "metadata": {
        "id": "9uBPv1pAZoTc"
      },
      "execution_count": 30,
      "outputs": []
    },
    {
      "cell_type": "code",
      "source": [
        "train_and_evaluate_clf(clf_dict, X_train, y_train, X_test, y_test)"
      ],
      "metadata": {
        "colab": {
          "base_uri": "https://localhost:8080/"
        },
        "id": "8nyMfcdMZq3h",
        "outputId": "bee39612-0180-4595-aff0-727384e47c7f"
      },
      "execution_count": 31,
      "outputs": [
        {
          "output_type": "stream",
          "name": "stdout",
          "text": [
            "Training and Evaluating all the models:\n",
            "======================================================\n",
            "Training Classifier :  MultilayerPercpClassifier\n",
            "======================================================\n",
            "======================================================\n",
            "Testing Classifier:  MultilayerPercpClassifier\n",
            "\n",
            "Classification Metrics:\n",
            "Precision : 0.9740028112035816\n",
            "Recall    : 0.9733333333333334\n",
            "F-score   : 0.9731020215566876\n",
            "Accuracy  : 0.9733333333333334\n",
            "======================================================\n"
          ]
        }
      ]
    },
    {
      "cell_type": "code",
      "source": [
        "def plot_confusion_matrix(cm, classes,\n",
        "                        normalize=False,\n",
        "                        title='Confusion matrix',\n",
        "                        cmap=plt.cm.Blues):\n",
        "\n",
        "    plt.imshow(cm, interpolation='nearest', cmap=cmap)\n",
        "    plt.title(title)\n",
        "    plt.colorbar()\n",
        "    tick_marks = np.arange(len(classes))\n",
        "    plt.xticks(tick_marks, classes, rotation=90)\n",
        "    plt.yticks(tick_marks, classes)\n",
        "\n",
        "    if normalize:\n",
        "        cm = cm.astype('float') / cm.sum(axis=1)[:, np.newaxis]\n",
        "        print(\"Normalized confusion matrix\")\n",
        "    else:\n",
        "        print('Confusion matrix, without normalization')\n",
        "\n",
        "    #print(cm)\n",
        "\n",
        "    plt.ylabel('True label')\n",
        "    plt.xlabel('Predicted label')"
      ],
      "metadata": {
        "id": "dVPPW6ode7EY"
      },
      "execution_count": 32,
      "outputs": []
    },
    {
      "cell_type": "code",
      "source": [
        "y_pred = mlp_classifier.predict(X_test)\n",
        "matrix = metrics.confusion_matrix(y_test, y_pred)\n",
        "plot_confusion_matrix(cm=matrix, normalize=True, classes=intent_small, title='Confusion Matrix')"
      ],
      "metadata": {
        "colab": {
          "base_uri": "https://localhost:8080/",
          "height": 398
        },
        "id": "nUQ8Tw_Ye9a5",
        "outputId": "9d009e91-64b4-417f-a3e0-f439c0eb88ce"
      },
      "execution_count": 33,
      "outputs": [
        {
          "output_type": "stream",
          "name": "stdout",
          "text": [
            "Normalized confusion matrix\n"
          ]
        },
        {
          "output_type": "display_data",
          "data": {
            "text/plain": [
              "<Figure size 432x288 with 2 Axes>"
            ],
            "image/png": "[encoded data removed]"
          },
          "metadata": {
            "needs_background": "light"
          }
        }
      ]
    }
  ]
}